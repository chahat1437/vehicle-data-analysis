{
 "cells": [
  {
   "cell_type": "code",
   "execution_count": 6,
   "metadata": {},
   "outputs": [],
   "source": [
    "import pandas as pd\n",
    "import matplotlib.pyplot as plt\n",
    "import seaborn as sns\n",
    "import math\n",
    "from scipy import stats\n"
   ]
  },
  {
   "cell_type": "code",
   "execution_count": 7,
   "metadata": {},
   "outputs": [
    {
     "data": {
      "text/html": [
       "<div>\n",
       "<style scoped>\n",
       "    .dataframe tbody tr th:only-of-type {\n",
       "        vertical-align: middle;\n",
       "    }\n",
       "\n",
       "    .dataframe tbody tr th {\n",
       "        vertical-align: top;\n",
       "    }\n",
       "\n",
       "    .dataframe thead th {\n",
       "        text-align: right;\n",
       "    }\n",
       "</style>\n",
       "<table border=\"1\" class=\"dataframe\">\n",
       "  <thead>\n",
       "    <tr style=\"text-align: right;\">\n",
       "      <th></th>\n",
       "      <th>VIN (1-10)</th>\n",
       "      <th>County</th>\n",
       "      <th>City</th>\n",
       "      <th>State</th>\n",
       "      <th>Postal Code</th>\n",
       "      <th>Model Year</th>\n",
       "      <th>Make</th>\n",
       "      <th>Model</th>\n",
       "      <th>Electric Vehicle Type</th>\n",
       "      <th>Clean Alternative Fuel Vehicle (CAFV) Eligibility</th>\n",
       "      <th>Electric Range</th>\n",
       "      <th>Base MSRP</th>\n",
       "      <th>Legislative District</th>\n",
       "      <th>DOL Vehicle ID</th>\n",
       "      <th>Vehicle Location</th>\n",
       "      <th>Electric Utility</th>\n",
       "      <th>2020 Census Tract</th>\n",
       "    </tr>\n",
       "  </thead>\n",
       "  <tbody>\n",
       "    <tr>\n",
       "      <th>0</th>\n",
       "      <td>2T3YL4DV0E</td>\n",
       "      <td>King</td>\n",
       "      <td>Bellevue</td>\n",
       "      <td>WA</td>\n",
       "      <td>98005.0</td>\n",
       "      <td>2014</td>\n",
       "      <td>TOYOTA</td>\n",
       "      <td>RAV4</td>\n",
       "      <td>Battery Electric Vehicle (BEV)</td>\n",
       "      <td>Clean Alternative Fuel Vehicle Eligible</td>\n",
       "      <td>103.0</td>\n",
       "      <td>0.0</td>\n",
       "      <td>41.0</td>\n",
       "      <td>186450183</td>\n",
       "      <td>POINT (-122.1621 47.64441)</td>\n",
       "      <td>PUGET SOUND ENERGY INC||CITY OF TACOMA - (WA)</td>\n",
       "      <td>5.303302e+10</td>\n",
       "    </tr>\n",
       "    <tr>\n",
       "      <th>1</th>\n",
       "      <td>5YJ3E1EB6K</td>\n",
       "      <td>King</td>\n",
       "      <td>Bothell</td>\n",
       "      <td>WA</td>\n",
       "      <td>98011.0</td>\n",
       "      <td>2019</td>\n",
       "      <td>TESLA</td>\n",
       "      <td>MODEL 3</td>\n",
       "      <td>Battery Electric Vehicle (BEV)</td>\n",
       "      <td>Clean Alternative Fuel Vehicle Eligible</td>\n",
       "      <td>220.0</td>\n",
       "      <td>0.0</td>\n",
       "      <td>1.0</td>\n",
       "      <td>478093654</td>\n",
       "      <td>POINT (-122.20563 47.76144)</td>\n",
       "      <td>PUGET SOUND ENERGY INC||CITY OF TACOMA - (WA)</td>\n",
       "      <td>5.303302e+10</td>\n",
       "    </tr>\n",
       "    <tr>\n",
       "      <th>2</th>\n",
       "      <td>5UX43EU02S</td>\n",
       "      <td>Thurston</td>\n",
       "      <td>Olympia</td>\n",
       "      <td>WA</td>\n",
       "      <td>98502.0</td>\n",
       "      <td>2025</td>\n",
       "      <td>BMW</td>\n",
       "      <td>X5</td>\n",
       "      <td>Plug-in Hybrid Electric Vehicle (PHEV)</td>\n",
       "      <td>Clean Alternative Fuel Vehicle Eligible</td>\n",
       "      <td>40.0</td>\n",
       "      <td>0.0</td>\n",
       "      <td>35.0</td>\n",
       "      <td>274800718</td>\n",
       "      <td>POINT (-122.92333 47.03779)</td>\n",
       "      <td>PUGET SOUND ENERGY INC</td>\n",
       "      <td>5.306701e+10</td>\n",
       "    </tr>\n",
       "    <tr>\n",
       "      <th>3</th>\n",
       "      <td>JTMAB3FV5R</td>\n",
       "      <td>Thurston</td>\n",
       "      <td>Olympia</td>\n",
       "      <td>WA</td>\n",
       "      <td>98513.0</td>\n",
       "      <td>2024</td>\n",
       "      <td>TOYOTA</td>\n",
       "      <td>RAV4 PRIME</td>\n",
       "      <td>Plug-in Hybrid Electric Vehicle (PHEV)</td>\n",
       "      <td>Clean Alternative Fuel Vehicle Eligible</td>\n",
       "      <td>42.0</td>\n",
       "      <td>0.0</td>\n",
       "      <td>2.0</td>\n",
       "      <td>260758165</td>\n",
       "      <td>POINT (-122.81754 46.98876)</td>\n",
       "      <td>PUGET SOUND ENERGY INC</td>\n",
       "      <td>5.306701e+10</td>\n",
       "    </tr>\n",
       "    <tr>\n",
       "      <th>4</th>\n",
       "      <td>5YJYGDEE8M</td>\n",
       "      <td>Yakima</td>\n",
       "      <td>Selah</td>\n",
       "      <td>WA</td>\n",
       "      <td>98942.0</td>\n",
       "      <td>2021</td>\n",
       "      <td>TESLA</td>\n",
       "      <td>MODEL Y</td>\n",
       "      <td>Battery Electric Vehicle (BEV)</td>\n",
       "      <td>Eligibility unknown as battery range has not b...</td>\n",
       "      <td>0.0</td>\n",
       "      <td>0.0</td>\n",
       "      <td>15.0</td>\n",
       "      <td>236581355</td>\n",
       "      <td>POINT (-120.53145 46.65405)</td>\n",
       "      <td>PACIFICORP</td>\n",
       "      <td>5.307700e+10</td>\n",
       "    </tr>\n",
       "  </tbody>\n",
       "</table>\n",
       "</div>"
      ],
      "text/plain": [
       "   VIN (1-10)    County      City State  Postal Code  Model Year    Make  \\\n",
       "0  2T3YL4DV0E      King  Bellevue    WA      98005.0        2014  TOYOTA   \n",
       "1  5YJ3E1EB6K      King   Bothell    WA      98011.0        2019   TESLA   \n",
       "2  5UX43EU02S  Thurston   Olympia    WA      98502.0        2025     BMW   \n",
       "3  JTMAB3FV5R  Thurston   Olympia    WA      98513.0        2024  TOYOTA   \n",
       "4  5YJYGDEE8M    Yakima     Selah    WA      98942.0        2021   TESLA   \n",
       "\n",
       "        Model                   Electric Vehicle Type  \\\n",
       "0        RAV4          Battery Electric Vehicle (BEV)   \n",
       "1     MODEL 3          Battery Electric Vehicle (BEV)   \n",
       "2          X5  Plug-in Hybrid Electric Vehicle (PHEV)   \n",
       "3  RAV4 PRIME  Plug-in Hybrid Electric Vehicle (PHEV)   \n",
       "4     MODEL Y          Battery Electric Vehicle (BEV)   \n",
       "\n",
       "   Clean Alternative Fuel Vehicle (CAFV) Eligibility  Electric Range  \\\n",
       "0            Clean Alternative Fuel Vehicle Eligible           103.0   \n",
       "1            Clean Alternative Fuel Vehicle Eligible           220.0   \n",
       "2            Clean Alternative Fuel Vehicle Eligible            40.0   \n",
       "3            Clean Alternative Fuel Vehicle Eligible            42.0   \n",
       "4  Eligibility unknown as battery range has not b...             0.0   \n",
       "\n",
       "   Base MSRP  Legislative District  DOL Vehicle ID  \\\n",
       "0        0.0                  41.0       186450183   \n",
       "1        0.0                   1.0       478093654   \n",
       "2        0.0                  35.0       274800718   \n",
       "3        0.0                   2.0       260758165   \n",
       "4        0.0                  15.0       236581355   \n",
       "\n",
       "              Vehicle Location                               Electric Utility  \\\n",
       "0   POINT (-122.1621 47.64441)  PUGET SOUND ENERGY INC||CITY OF TACOMA - (WA)   \n",
       "1  POINT (-122.20563 47.76144)  PUGET SOUND ENERGY INC||CITY OF TACOMA - (WA)   \n",
       "2  POINT (-122.92333 47.03779)                         PUGET SOUND ENERGY INC   \n",
       "3  POINT (-122.81754 46.98876)                         PUGET SOUND ENERGY INC   \n",
       "4  POINT (-120.53145 46.65405)                                     PACIFICORP   \n",
       "\n",
       "   2020 Census Tract  \n",
       "0       5.303302e+10  \n",
       "1       5.303302e+10  \n",
       "2       5.306701e+10  \n",
       "3       5.306701e+10  \n",
       "4       5.307700e+10  "
      ]
     },
     "execution_count": 7,
     "metadata": {},
     "output_type": "execute_result"
    }
   ],
   "source": [
    "df=pd.read_csv(r\"C:\\Users\\CHAHAT\\Downloads\\Electric_Vehicle_Population_Data.csv\")\n",
    "df.head()"
   ]
  },
  {
   "cell_type": "code",
   "execution_count": 8,
   "metadata": {},
   "outputs": [
    {
     "data": {
      "text/plain": [
       "(232230, 17)"
      ]
     },
     "execution_count": 8,
     "metadata": {},
     "output_type": "execute_result"
    }
   ],
   "source": [
    "df.shape"
   ]
  },
  {
   "cell_type": "code",
   "execution_count": 9,
   "metadata": {},
   "outputs": [
    {
     "data": {
      "text/html": [
       "<div>\n",
       "<style scoped>\n",
       "    .dataframe tbody tr th:only-of-type {\n",
       "        vertical-align: middle;\n",
       "    }\n",
       "\n",
       "    .dataframe tbody tr th {\n",
       "        vertical-align: top;\n",
       "    }\n",
       "\n",
       "    .dataframe thead th {\n",
       "        text-align: right;\n",
       "    }\n",
       "</style>\n",
       "<table border=\"1\" class=\"dataframe\">\n",
       "  <thead>\n",
       "    <tr style=\"text-align: right;\">\n",
       "      <th></th>\n",
       "      <th>Postal Code</th>\n",
       "      <th>Model Year</th>\n",
       "      <th>Electric Range</th>\n",
       "      <th>Base MSRP</th>\n",
       "      <th>Legislative District</th>\n",
       "      <th>DOL Vehicle ID</th>\n",
       "      <th>2020 Census Tract</th>\n",
       "    </tr>\n",
       "  </thead>\n",
       "  <tbody>\n",
       "    <tr>\n",
       "      <th>count</th>\n",
       "      <td>232226.000000</td>\n",
       "      <td>232230.000000</td>\n",
       "      <td>232203.000000</td>\n",
       "      <td>232203.000000</td>\n",
       "      <td>231749.000000</td>\n",
       "      <td>2.322300e+05</td>\n",
       "      <td>2.322260e+05</td>\n",
       "    </tr>\n",
       "    <tr>\n",
       "      <th>mean</th>\n",
       "      <td>98180.172044</td>\n",
       "      <td>2021.353727</td>\n",
       "      <td>46.755998</td>\n",
       "      <td>803.808973</td>\n",
       "      <td>28.880979</td>\n",
       "      <td>2.343671e+08</td>\n",
       "      <td>5.298177e+10</td>\n",
       "    </tr>\n",
       "    <tr>\n",
       "      <th>std</th>\n",
       "      <td>2489.407943</td>\n",
       "      <td>2.994884</td>\n",
       "      <td>84.373596</td>\n",
       "      <td>7246.597102</td>\n",
       "      <td>14.904503</td>\n",
       "      <td>6.831418e+07</td>\n",
       "      <td>1.507814e+09</td>\n",
       "    </tr>\n",
       "    <tr>\n",
       "      <th>min</th>\n",
       "      <td>1731.000000</td>\n",
       "      <td>1999.000000</td>\n",
       "      <td>0.000000</td>\n",
       "      <td>0.000000</td>\n",
       "      <td>1.000000</td>\n",
       "      <td>4.385000e+03</td>\n",
       "      <td>1.001020e+09</td>\n",
       "    </tr>\n",
       "    <tr>\n",
       "      <th>25%</th>\n",
       "      <td>98052.000000</td>\n",
       "      <td>2020.000000</td>\n",
       "      <td>0.000000</td>\n",
       "      <td>0.000000</td>\n",
       "      <td>17.000000</td>\n",
       "      <td>2.034737e+08</td>\n",
       "      <td>5.303301e+10</td>\n",
       "    </tr>\n",
       "    <tr>\n",
       "      <th>50%</th>\n",
       "      <td>98126.000000</td>\n",
       "      <td>2023.000000</td>\n",
       "      <td>0.000000</td>\n",
       "      <td>0.000000</td>\n",
       "      <td>32.000000</td>\n",
       "      <td>2.512717e+08</td>\n",
       "      <td>5.303303e+10</td>\n",
       "    </tr>\n",
       "    <tr>\n",
       "      <th>75%</th>\n",
       "      <td>98375.000000</td>\n",
       "      <td>2023.000000</td>\n",
       "      <td>38.000000</td>\n",
       "      <td>0.000000</td>\n",
       "      <td>42.000000</td>\n",
       "      <td>2.686943e+08</td>\n",
       "      <td>5.305307e+10</td>\n",
       "    </tr>\n",
       "    <tr>\n",
       "      <th>max</th>\n",
       "      <td>99577.000000</td>\n",
       "      <td>2025.000000</td>\n",
       "      <td>337.000000</td>\n",
       "      <td>845000.000000</td>\n",
       "      <td>49.000000</td>\n",
       "      <td>4.792548e+08</td>\n",
       "      <td>5.602100e+10</td>\n",
       "    </tr>\n",
       "  </tbody>\n",
       "</table>\n",
       "</div>"
      ],
      "text/plain": [
       "         Postal Code     Model Year  Electric Range      Base MSRP  \\\n",
       "count  232226.000000  232230.000000   232203.000000  232203.000000   \n",
       "mean    98180.172044    2021.353727       46.755998     803.808973   \n",
       "std      2489.407943       2.994884       84.373596    7246.597102   \n",
       "min      1731.000000    1999.000000        0.000000       0.000000   \n",
       "25%     98052.000000    2020.000000        0.000000       0.000000   \n",
       "50%     98126.000000    2023.000000        0.000000       0.000000   \n",
       "75%     98375.000000    2023.000000       38.000000       0.000000   \n",
       "max     99577.000000    2025.000000      337.000000  845000.000000   \n",
       "\n",
       "       Legislative District  DOL Vehicle ID  2020 Census Tract  \n",
       "count         231749.000000    2.322300e+05       2.322260e+05  \n",
       "mean              28.880979    2.343671e+08       5.298177e+10  \n",
       "std               14.904503    6.831418e+07       1.507814e+09  \n",
       "min                1.000000    4.385000e+03       1.001020e+09  \n",
       "25%               17.000000    2.034737e+08       5.303301e+10  \n",
       "50%               32.000000    2.512717e+08       5.303303e+10  \n",
       "75%               42.000000    2.686943e+08       5.305307e+10  \n",
       "max               49.000000    4.792548e+08       5.602100e+10  "
      ]
     },
     "execution_count": 9,
     "metadata": {},
     "output_type": "execute_result"
    }
   ],
   "source": [
    "df.describe()"
   ]
  },
  {
   "cell_type": "code",
   "execution_count": 10,
   "metadata": {},
   "outputs": [
    {
     "name": "stdout",
     "output_type": "stream",
     "text": [
      "<class 'pandas.core.frame.DataFrame'>\n",
      "RangeIndex: 232230 entries, 0 to 232229\n",
      "Data columns (total 17 columns):\n",
      " #   Column                                             Non-Null Count   Dtype  \n",
      "---  ------                                             --------------   -----  \n",
      " 0   VIN (1-10)                                         232230 non-null  object \n",
      " 1   County                                             232226 non-null  object \n",
      " 2   City                                               232226 non-null  object \n",
      " 3   State                                              232230 non-null  object \n",
      " 4   Postal Code                                        232226 non-null  float64\n",
      " 5   Model Year                                         232230 non-null  int64  \n",
      " 6   Make                                               232230 non-null  object \n",
      " 7   Model                                              232230 non-null  object \n",
      " 8   Electric Vehicle Type                              232230 non-null  object \n",
      " 9   Clean Alternative Fuel Vehicle (CAFV) Eligibility  232230 non-null  object \n",
      " 10  Electric Range                                     232203 non-null  float64\n",
      " 11  Base MSRP                                          232203 non-null  float64\n",
      " 12  Legislative District                               231749 non-null  float64\n",
      " 13  DOL Vehicle ID                                     232230 non-null  int64  \n",
      " 14  Vehicle Location                                   232219 non-null  object \n",
      " 15  Electric Utility                                   232226 non-null  object \n",
      " 16  2020 Census Tract                                  232226 non-null  float64\n",
      "dtypes: float64(5), int64(2), object(10)\n",
      "memory usage: 30.1+ MB\n"
     ]
    }
   ],
   "source": [
    "df.info()\n",
    "\n"
   ]
  },
  {
   "cell_type": "code",
   "execution_count": 11,
   "metadata": {},
   "outputs": [
    {
     "data": {
      "text/plain": [
       "VIN (1-10)                                            object\n",
       "County                                                object\n",
       "City                                                  object\n",
       "State                                                 object\n",
       "Postal Code                                          float64\n",
       "Model Year                                             int64\n",
       "Make                                                  object\n",
       "Model                                                 object\n",
       "Electric Vehicle Type                                 object\n",
       "Clean Alternative Fuel Vehicle (CAFV) Eligibility     object\n",
       "Electric Range                                       float64\n",
       "Base MSRP                                            float64\n",
       "Legislative District                                 float64\n",
       "DOL Vehicle ID                                         int64\n",
       "Vehicle Location                                      object\n",
       "Electric Utility                                      object\n",
       "2020 Census Tract                                    float64\n",
       "dtype: object"
      ]
     },
     "execution_count": 11,
     "metadata": {},
     "output_type": "execute_result"
    }
   ],
   "source": [
    "df.dtypes"
   ]
  },
  {
   "cell_type": "code",
   "execution_count": 12,
   "metadata": {},
   "outputs": [
    {
     "data": {
      "text/plain": [
       "VIN (1-10)                                             0\n",
       "County                                                 4\n",
       "City                                                   4\n",
       "State                                                  0\n",
       "Postal Code                                            4\n",
       "Model Year                                             0\n",
       "Make                                                   0\n",
       "Model                                                  0\n",
       "Electric Vehicle Type                                  0\n",
       "Clean Alternative Fuel Vehicle (CAFV) Eligibility      0\n",
       "Electric Range                                        27\n",
       "Base MSRP                                             27\n",
       "Legislative District                                 481\n",
       "DOL Vehicle ID                                         0\n",
       "Vehicle Location                                      11\n",
       "Electric Utility                                       4\n",
       "2020 Census Tract                                      4\n",
       "dtype: int64"
      ]
     },
     "execution_count": 12,
     "metadata": {},
     "output_type": "execute_result"
    }
   ],
   "source": [
    "df.isnull().sum()\n",
    "\n"
   ]
  },
  {
   "cell_type": "code",
   "execution_count": 13,
   "metadata": {},
   "outputs": [
    {
     "data": {
      "text/plain": [
       "VIN (1-10)                                           0.000000\n",
       "County                                               0.001722\n",
       "City                                                 0.001722\n",
       "State                                                0.000000\n",
       "Postal Code                                          0.001722\n",
       "Model Year                                           0.000000\n",
       "Make                                                 0.000000\n",
       "Model                                                0.000000\n",
       "Electric Vehicle Type                                0.000000\n",
       "Clean Alternative Fuel Vehicle (CAFV) Eligibility    0.000000\n",
       "Electric Range                                       0.011626\n",
       "Base MSRP                                            0.011626\n",
       "Legislative District                                 0.207122\n",
       "DOL Vehicle ID                                       0.000000\n",
       "Vehicle Location                                     0.004737\n",
       "Electric Utility                                     0.001722\n",
       "2020 Census Tract                                    0.001722\n",
       "dtype: float64"
      ]
     },
     "execution_count": 13,
     "metadata": {},
     "output_type": "execute_result"
    }
   ],
   "source": [
    "(df.isnull().sum()/df.shape[0])*100"
   ]
  },
  {
   "cell_type": "code",
   "execution_count": 14,
   "metadata": {},
   "outputs": [
    {
     "data": {
      "text/plain": [
       "np.int64(0)"
      ]
     },
     "execution_count": 14,
     "metadata": {},
     "output_type": "execute_result"
    }
   ],
   "source": [
    "df.duplicated().sum()"
   ]
  },
  {
   "cell_type": "code",
   "execution_count": 15,
   "metadata": {},
   "outputs": [
    {
     "data": {
      "text/plain": [
       "Index(['Postal Code', 'Model Year', 'Electric Range', 'Base MSRP',\n",
       "       'Legislative District', 'DOL Vehicle ID', '2020 Census Tract'],\n",
       "      dtype='object')"
      ]
     },
     "execution_count": 15,
     "metadata": {},
     "output_type": "execute_result"
    }
   ],
   "source": [
    "df.select_dtypes(include=['float','int']).columns"
   ]
  },
  {
   "cell_type": "markdown",
   "metadata": {},
   "source": [
    "# Data Cleaning"
   ]
  },
  {
   "cell_type": "code",
   "execution_count": null,
   "metadata": {},
   "outputs": [],
   "source": [
    "from sklearn.impute import SimpleImputer\n",
    "si=SimpleImputer(strategy='mean')\n",
    "ar=si.fit_transform(df[['Postal Code', 'Model Year', 'Electric Range', 'Base MSRP',\n",
    "       'Legislative District', 'DOL Vehicle ID', '2020 Census Tract']])"
   ]
  },
  {
   "cell_type": "code",
   "execution_count": 9,
   "metadata": {},
   "outputs": [],
   "source": [
    "group_range=df.groupby('Model')['Electric Range'].mean() # electric range value based on their model\n",
    "df['Electric Range']=df['Electric Range'].fillna(df['Model'].map(group_range))"
   ]
  },
  {
   "cell_type": "code",
   "execution_count": 10,
   "metadata": {},
   "outputs": [],
   "source": [
    "group_MSRP=df.groupby('Model')['Base MSRP'].mean() # price  based on their model\n",
    "df['Base MSRP']=df['Base MSRP'].fillna(df['Model'].map(group_MSRP))"
   ]
  },
  {
   "cell_type": "code",
   "execution_count": 11,
   "metadata": {},
   "outputs": [],
   "source": [
    "group_district=df.groupby('City')['Legislative District'].sum()\n",
    "df['Legislative District']=df['Legislative District'].fillna(df['City'].map(group_district))\n"
   ]
  },
  {
   "cell_type": "code",
   "execution_count": 12,
   "metadata": {},
   "outputs": [
    {
     "data": {
      "text/html": [
       "<div>\n",
       "<style scoped>\n",
       "    .dataframe tbody tr th:only-of-type {\n",
       "        vertical-align: middle;\n",
       "    }\n",
       "\n",
       "    .dataframe tbody tr th {\n",
       "        vertical-align: top;\n",
       "    }\n",
       "\n",
       "    .dataframe thead th {\n",
       "        text-align: right;\n",
       "    }\n",
       "</style>\n",
       "<table border=\"1\" class=\"dataframe\">\n",
       "  <thead>\n",
       "    <tr style=\"text-align: right;\">\n",
       "      <th></th>\n",
       "      <th>VIN (1-10)</th>\n",
       "      <th>County</th>\n",
       "      <th>City</th>\n",
       "      <th>State</th>\n",
       "      <th>Postal Code</th>\n",
       "      <th>Model Year</th>\n",
       "      <th>Make</th>\n",
       "      <th>Model</th>\n",
       "      <th>Electric Vehicle Type</th>\n",
       "      <th>Clean Alternative Fuel Vehicle (CAFV) Eligibility</th>\n",
       "      <th>Electric Range</th>\n",
       "      <th>Base MSRP</th>\n",
       "      <th>Legislative District</th>\n",
       "      <th>DOL Vehicle ID</th>\n",
       "      <th>Vehicle Location</th>\n",
       "      <th>Electric Utility</th>\n",
       "      <th>2020 Census Tract</th>\n",
       "    </tr>\n",
       "  </thead>\n",
       "  <tbody>\n",
       "    <tr>\n",
       "      <th>221984</th>\n",
       "      <td>WBAJA9C50K</td>\n",
       "      <td>NaN</td>\n",
       "      <td>NaN</td>\n",
       "      <td>AE</td>\n",
       "      <td>NaN</td>\n",
       "      <td>2019</td>\n",
       "      <td>BMW</td>\n",
       "      <td>530E</td>\n",
       "      <td>Plug-in Hybrid Electric Vehicle (PHEV)</td>\n",
       "      <td>Not eligible due to low battery range</td>\n",
       "      <td>16.0</td>\n",
       "      <td>53400.0</td>\n",
       "      <td>NaN</td>\n",
       "      <td>244582593</td>\n",
       "      <td>NaN</td>\n",
       "      <td>NaN</td>\n",
       "      <td>NaN</td>\n",
       "    </tr>\n",
       "    <tr>\n",
       "      <th>225662</th>\n",
       "      <td>5YJXCAE24H</td>\n",
       "      <td>NaN</td>\n",
       "      <td>NaN</td>\n",
       "      <td>BC</td>\n",
       "      <td>NaN</td>\n",
       "      <td>2017</td>\n",
       "      <td>TESLA</td>\n",
       "      <td>MODEL X</td>\n",
       "      <td>Battery Electric Vehicle (BEV)</td>\n",
       "      <td>Clean Alternative Fuel Vehicle Eligible</td>\n",
       "      <td>200.0</td>\n",
       "      <td>0.0</td>\n",
       "      <td>NaN</td>\n",
       "      <td>159850029</td>\n",
       "      <td>NaN</td>\n",
       "      <td>NaN</td>\n",
       "      <td>NaN</td>\n",
       "    </tr>\n",
       "    <tr>\n",
       "      <th>227478</th>\n",
       "      <td>WBAJA9C56J</td>\n",
       "      <td>NaN</td>\n",
       "      <td>NaN</td>\n",
       "      <td>AP</td>\n",
       "      <td>NaN</td>\n",
       "      <td>2018</td>\n",
       "      <td>BMW</td>\n",
       "      <td>530E</td>\n",
       "      <td>Plug-in Hybrid Electric Vehicle (PHEV)</td>\n",
       "      <td>Not eligible due to low battery range</td>\n",
       "      <td>16.0</td>\n",
       "      <td>52650.0</td>\n",
       "      <td>NaN</td>\n",
       "      <td>145668274</td>\n",
       "      <td>NaN</td>\n",
       "      <td>NaN</td>\n",
       "      <td>NaN</td>\n",
       "    </tr>\n",
       "    <tr>\n",
       "      <th>227979</th>\n",
       "      <td>5YJ3E1EB2M</td>\n",
       "      <td>NaN</td>\n",
       "      <td>NaN</td>\n",
       "      <td>NS</td>\n",
       "      <td>NaN</td>\n",
       "      <td>2021</td>\n",
       "      <td>TESLA</td>\n",
       "      <td>MODEL 3</td>\n",
       "      <td>Battery Electric Vehicle (BEV)</td>\n",
       "      <td>Eligibility unknown as battery range has not b...</td>\n",
       "      <td>0.0</td>\n",
       "      <td>0.0</td>\n",
       "      <td>NaN</td>\n",
       "      <td>179569743</td>\n",
       "      <td>NaN</td>\n",
       "      <td>NaN</td>\n",
       "      <td>NaN</td>\n",
       "    </tr>\n",
       "  </tbody>\n",
       "</table>\n",
       "</div>"
      ],
      "text/plain": [
       "        VIN (1-10) County City State  Postal Code  Model Year   Make    Model  \\\n",
       "221984  WBAJA9C50K    NaN  NaN    AE          NaN        2019    BMW     530E   \n",
       "225662  5YJXCAE24H    NaN  NaN    BC          NaN        2017  TESLA  MODEL X   \n",
       "227478  WBAJA9C56J    NaN  NaN    AP          NaN        2018    BMW     530E   \n",
       "227979  5YJ3E1EB2M    NaN  NaN    NS          NaN        2021  TESLA  MODEL 3   \n",
       "\n",
       "                         Electric Vehicle Type  \\\n",
       "221984  Plug-in Hybrid Electric Vehicle (PHEV)   \n",
       "225662          Battery Electric Vehicle (BEV)   \n",
       "227478  Plug-in Hybrid Electric Vehicle (PHEV)   \n",
       "227979          Battery Electric Vehicle (BEV)   \n",
       "\n",
       "        Clean Alternative Fuel Vehicle (CAFV) Eligibility  Electric Range  \\\n",
       "221984              Not eligible due to low battery range            16.0   \n",
       "225662            Clean Alternative Fuel Vehicle Eligible           200.0   \n",
       "227478              Not eligible due to low battery range            16.0   \n",
       "227979  Eligibility unknown as battery range has not b...             0.0   \n",
       "\n",
       "        Base MSRP  Legislative District  DOL Vehicle ID Vehicle Location  \\\n",
       "221984    53400.0                   NaN       244582593              NaN   \n",
       "225662        0.0                   NaN       159850029              NaN   \n",
       "227478    52650.0                   NaN       145668274              NaN   \n",
       "227979        0.0                   NaN       179569743              NaN   \n",
       "\n",
       "       Electric Utility  2020 Census Tract  \n",
       "221984              NaN                NaN  \n",
       "225662              NaN                NaN  \n",
       "227478              NaN                NaN  \n",
       "227979              NaN                NaN  "
      ]
     },
     "execution_count": 12,
     "metadata": {},
     "output_type": "execute_result"
    }
   ],
   "source": [
    "null_rows = df[df['Postal Code'].isnull()]\n",
    "null_rows\n"
   ]
  },
  {
   "cell_type": "code",
   "execution_count": 13,
   "metadata": {},
   "outputs": [],
   "source": [
    "df.drop(null_rows.index,inplace=True)"
   ]
  },
  {
   "cell_type": "code",
   "execution_count": 14,
   "metadata": {},
   "outputs": [
    {
     "data": {
      "text/plain": [
       "VIN (1-10)                                           0\n",
       "County                                               0\n",
       "City                                                 0\n",
       "State                                                0\n",
       "Postal Code                                          0\n",
       "Model Year                                           0\n",
       "Make                                                 0\n",
       "Model                                                0\n",
       "Electric Vehicle Type                                0\n",
       "Clean Alternative Fuel Vehicle (CAFV) Eligibility    0\n",
       "Electric Range                                       0\n",
       "Base MSRP                                            0\n",
       "Legislative District                                 0\n",
       "DOL Vehicle ID                                       0\n",
       "Vehicle Location                                     7\n",
       "Electric Utility                                     0\n",
       "2020 Census Tract                                    0\n",
       "dtype: int64"
      ]
     },
     "execution_count": 14,
     "metadata": {},
     "output_type": "execute_result"
    }
   ],
   "source": [
    "df.isnull().sum()"
   ]
  },
  {
   "cell_type": "code",
   "execution_count": 15,
   "metadata": {},
   "outputs": [],
   "source": [
    "\n",
    "df['Electric Range']=df['Electric Range'].astype(int)\n"
   ]
  },
  {
   "cell_type": "code",
   "execution_count": 16,
   "metadata": {},
   "outputs": [],
   "source": [
    "df['2020 Census Tract']=df['2020 Census Tract'].astype(str)"
   ]
  },
  {
   "cell_type": "code",
   "execution_count": 17,
   "metadata": {},
   "outputs": [],
   "source": [
    "df['Base MSRP']=df['Base MSRP'].astype(int)\n"
   ]
  },
  {
   "cell_type": "code",
   "execution_count": 18,
   "metadata": {},
   "outputs": [],
   "source": [
    "df['Legislative District']=df['Legislative District'].astype(int)"
   ]
  },
  {
   "cell_type": "code",
   "execution_count": 19,
   "metadata": {},
   "outputs": [],
   "source": [
    "df['Postal Code']=df['Postal Code'].astype(str)"
   ]
  },
  {
   "cell_type": "markdown",
   "metadata": {},
   "source": [
    "# General Trends:"
   ]
  },
  {
   "cell_type": "code",
   "execution_count": null,
   "metadata": {},
   "outputs": [],
   "source": [
    "# What is the total number of electric vehicles (EVs) in the dataset?\n",
    "EVs=df['Electric Vehicle Type'].count()\n",
    "EVs"
   ]
  },
  {
   "cell_type": "code",
   "execution_count": null,
   "metadata": {},
   "outputs": [],
   "source": [
    "# How has the number of EVs changed over different model years?\n",
    "ev_trend=df.groupby('Model Year')['Electric Vehicle Type'].count()\n",
    "plt.figure(figsize=(10,6))\n",
    "plt.plot(ev_trend.index,ev_trend.values,label='ev_count',marker='o')\n",
    "plt.grid(linestyle='--')\n",
    "plt.xlabel('Year',fontsize=10)\n",
    "plt.ylabel('No of EVs',fontsize=10)\n",
    "plt.title('EVs changed over different years',fontsize=12)\n",
    "plt.legend()\n",
    "plt.tight_layout()\n",
    "plt.show()\n",
    "\n"
   ]
  },
  {
   "cell_type": "code",
   "execution_count": null,
   "metadata": {},
   "outputs": [],
   "source": [
    "# What is the distribution of EV types (Battery Electric Vehicle vs. Plug-in Hybrid)?\n",
    "EVs_type=df['Electric Vehicle Type'].value_counts()\n",
    "plt.bar(EVs_type.index,EVs_type.values)\n",
    "plt.xlabel('ELECTRIC VEHICLE TYPE')\n",
    "plt.ylabel('count')\n",
    "plt.title('total no of electric vehicles by type')\n",
    "plt.show()"
   ]
  },
  {
   "cell_type": "markdown",
   "metadata": {},
   "source": [
    "# Geographical Insights:\n"
   ]
  },
  {
   "cell_type": "code",
   "execution_count": null,
   "metadata": {},
   "outputs": [],
   "source": [
    "# Which counties/cities have the highest number of  EVs?\n",
    "registered_ev=df.groupby('City')['Electric Vehicle Type'].count()\n",
    "top_cities=registered_ev.sort_values(ascending=False).head(10)\n",
    "plt.figure(figsize=(10,6))\n",
    "plt.bar(top_cities.index,top_cities.values,color='lightcoral')\n",
    "plt.xlabel('city',fontsize=12)\n",
    "plt.ylabel('total ev in cities',fontsize=12)\n",
    "plt.title('top 10 CITIES THAT HAVE HIGHEST NUMBER OF  EVs',fontsize=14)\n",
    "plt.tight_layout()\n",
    "plt.xticks(rotation=45)\n",
    "plt.show()"
   ]
  },
  {
   "cell_type": "code",
   "execution_count": null,
   "metadata": {},
   "outputs": [],
   "source": [
    "# how does EV adoption vary across different legislative districts?\n",
    "ev_by_district=df.groupby('Legislative District')['Electric Vehicle Type'].count()\n",
    "plt.figure(figsize=(10,6))\n",
    "ev_by_district.sort_values(ascending=False).plot(kind='bar', color='indianred')\n",
    "plt.xlabel('legislative district',fontsize=12)\n",
    "plt.ylabel('count of ev',fontsize=12)\n",
    "plt.title(' ev adoption across different districts',fontsize=20)\n",
    "plt.tight_layout()\n",
    "plt.show()"
   ]
  },
  {
   "cell_type": "code",
   "execution_count": null,
   "metadata": {},
   "outputs": [],
   "source": [
    "# What are the most common EV models in each county?\n",
    "common_models=df.groupby('County')['Electric Vehicle Type'].apply(lambda x:x.mode()[0])\n",
    "common_models"
   ]
  },
  {
   "cell_type": "markdown",
   "metadata": {},
   "source": [
    "# Brand and Model Analysis:\n"
   ]
  },
  {
   "cell_type": "code",
   "execution_count": null,
   "metadata": {},
   "outputs": [],
   "source": [
    "# What are the most popular EV models?\n",
    "popular_EVs=df['Model'].value_counts().head(10)\n",
    "plt.figure(figsize=(15,6))\n",
    "plt.bar(popular_EVs.index,popular_EVs.values)\n",
    "plt.show()"
   ]
  },
  {
   "cell_type": "code",
   "execution_count": null,
   "metadata": {},
   "outputs": [],
   "source": [
    "# How do the electric ranges compare across different brands and models?\n",
    "df.groupby(['Model','Make'])['Electric Range'].mean()"
   ]
  },
  {
   "cell_type": "markdown",
   "metadata": {},
   "source": [
    "# Financial Aspects:"
   ]
  },
  {
   "cell_type": "code",
   "execution_count": null,
   "metadata": {},
   "outputs": [],
   "source": [
    "# What is the average Base MSRP for EVs?\n",
    "\n",
    "MSRP_avg_type=df.groupby('Electric Vehicle Type')['Base MSRP'].mean()"
   ]
  },
  {
   "cell_type": "code",
   "execution_count": null,
   "metadata": {},
   "outputs": [],
   "source": [
    "# Is there a correlation between Base MSRP and Electric Range?\n",
    "CORR=df[['Base MSRP','Electric Range']].corr()\n",
    "sns.heatmap(CORR,annot=True)"
   ]
  },
  {
   "cell_type": "code",
   "execution_count": null,
   "metadata": {},
   "outputs": [],
   "source": [
    "#  Do newer models have higher prices?\n",
    "ev_price=df.groupby(['Model','Model Year'])['Base MSRP'].max().reset_index()\n",
    "ev_price=ev_price.sort_values(by='Model Year')"
   ]
  },
  {
   "cell_type": "code",
   "execution_count": null,
   "metadata": {},
   "outputs": [],
   "source": [
    "correlation = df['Model Year'].corr(df['Base MSRP'])\n",
    "print('Correlation:', correlation)\n"
   ]
  },
  {
   "cell_type": "markdown",
   "metadata": {},
   "source": [
    "# Legislation & Infrastructure:"
   ]
  },
  {
   "cell_type": "code",
   "execution_count": null,
   "metadata": {},
   "outputs": [],
   "source": [
    "# How many vehicles are eligible for Clean Alternative Fuel Vehicle (CAFV) incentives?\n",
    "eligible_vehicles=df.groupby('Clean Alternative Fuel Vehicle (CAFV) Eligibility')['Model'].count()\n",
    "color=['magenta','lightcoral','hotpink']\n",
    "explode = (0, 0, 0)  \n",
    "plt.pie(eligible_vehicles,labels=eligible_vehicles.index,shadow=True,autopct='%1.1f%%',colors=color,startangle=140,explode=explode)\n",
    "plt.show()"
   ]
  },
  {
   "cell_type": "code",
   "execution_count": null,
   "metadata": {},
   "outputs": [],
   "source": [
    "# Are there specific regions where more CAFV-eligible vehicles in city ?\n",
    "b=df.groupby('City')['Clean Alternative Fuel Vehicle (CAFV) Eligibility'].count()\n",
    "a=b.sort_values(ascending=False).head(10)\n",
    "plt.pie(a,labels=a.index,autopct='%1.1f%%')\n",
    "plt.show()"
   ]
  },
  {
   "cell_type": "code",
   "execution_count": null,
   "metadata": {},
   "outputs": [],
   "source": [
    "# Which electric utilities service the most EV owners?\n",
    "top_utilities=df['Electric Utility'].value_counts().reset_index().head(10)\n",
    "plt.bar(top_utilities.index,top_utilities['Electric Utility'])\n",
    "plt.show()\n"
   ]
  },
  {
   "cell_type": "code",
   "execution_count": 23,
   "metadata": {},
   "outputs": [],
   "source": [
    "from sklearn.preprocessing import OneHotEncoder, StandardScaler\n",
    "import pandas as pd\n",
    "\n",
    "# Identify categorical and numerical columns\n",
    "categorical_cols = ['Model', 'Electric Utility']\n",
    "numerical_cols = df.select_dtypes(include=['int64', 'float64']).columns.difference(['Electric Range'])\n",
    "\n",
    "# One-Hot Encode categorical variables\n",
    "encoder = OneHotEncoder(sparse_output=False, handle_unknown=\"ignore\")\n",
    "encoded_cats = encoder.fit_transform(df[categorical_cols])\n",
    "encoded_cats_df = pd.DataFrame(encoded_cats, columns=encoder.get_feature_names_out())\n",
    "\n",
    "# Scale numerical variables\n",
    "scaler = StandardScaler()\n",
    "scaled_nums = scaler.fit_transform(df[numerical_cols])\n",
    "scaled_nums_df = pd.DataFrame(scaled_nums, columns=numerical_cols)\n",
    "\n",
    "\n",
    "df_encoded = pd.concat([scaled_nums_df, encoded_cats_df], axis=1)\n",
    "\n",
    "# Define x and y\n",
    "x = df_encoded\n",
    "y = df['Electric Range']  # Dependent variable\n"
   ]
  },
  {
   "cell_type": "code",
   "execution_count": 24,
   "metadata": {},
   "outputs": [
    {
     "name": "stdout",
     "output_type": "stream",
     "text": [
      "Model R² Score: 0.5340813846209179\n"
     ]
    }
   ],
   "source": [
    "from sklearn.model_selection import train_test_split\n",
    "from sklearn.linear_model import LinearRegression\n",
    "\n",
    "# Split data into train and test sets\n",
    "x_train, x_test, y_train, y_test = train_test_split(x, y, test_size=0.3, random_state=42)\n",
    "\n",
    "# Train Linear Regression Model\n",
    "reg = LinearRegression()\n",
    "reg.fit(x_train, y_train)\n",
    "\n",
    "# Evaluate model\n",
    "score = reg.score(x_test, y_test)\n",
    "print(\"Model R² Score:\", score)\n"
   ]
  },
  {
   "cell_type": "code",
   "execution_count": null,
   "metadata": {},
   "outputs": [],
   "source": []
  },
  {
   "cell_type": "code",
   "execution_count": null,
   "metadata": {},
   "outputs": [],
   "source": []
  },
  {
   "cell_type": "code",
   "execution_count": null,
   "metadata": {},
   "outputs": [],
   "source": []
  },
  {
   "cell_type": "code",
   "execution_count": null,
   "metadata": {},
   "outputs": [],
   "source": []
  },
  {
   "cell_type": "code",
   "execution_count": null,
   "metadata": {},
   "outputs": [],
   "source": []
  },
  {
   "cell_type": "code",
   "execution_count": null,
   "metadata": {},
   "outputs": [],
   "source": []
  },
  {
   "cell_type": "code",
   "execution_count": null,
   "metadata": {},
   "outputs": [],
   "source": [
    "\n"
   ]
  }
 ],
 "metadata": {
  "kernelspec": {
   "display_name": "Python 3",
   "language": "python",
   "name": "python3"
  },
  "language_info": {
   "codemirror_mode": {
    "name": "ipython",
    "version": 3
   },
   "file_extension": ".py",
   "mimetype": "text/x-python",
   "name": "python",
   "nbconvert_exporter": "python",
   "pygments_lexer": "ipython3",
   "version": "3.12.5"
  }
 },
 "nbformat": 4,
 "nbformat_minor": 2
}
